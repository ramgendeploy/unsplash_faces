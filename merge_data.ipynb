{
 "cells": [
  {
   "cell_type": "code",
   "execution_count": 1,
   "metadata": {},
   "outputs": [],
   "source": [
    "import glob\n",
    "import numpy as np\n",
    "import pandas as pd\n",
    "import requests\n",
    "from io import BytesIO"
   ]
  },
  {
   "cell_type": "code",
   "execution_count": null,
   "metadata": {},
   "outputs": [],
   "source": [
    "def parse_cords(cord_string):\n",
    "    cords = [int(i) for i in cord_string.replace(']','').replace('[','').split(' ') if i]\n",
    "    cords = np.reshape(cords, (len(cords)//4,4))\n",
    "    return cords\n",
    "\n",
    "def recal_box(box_cords, old_shape, new_shape):\n",
    "    recal_boxes=[]\n",
    "    \n",
    "    for box in box_cords:\n",
    "        Ry, Rx=new_shape[0]/old_shape[0],new_shape[1]/old_shape[1]\n",
    "\n",
    "        x,y,w,h = box\n",
    "        new_y, new_x = int(Ry*y), int(Rx*x)\n",
    "\n",
    "        new_h, new_w = int(Ry*h), int(Rx*w)\n",
    "        \n",
    "        recal_boxes.append((new_x, new_y, new_w, new_h))\n",
    "\n",
    "    return recal_boxes\n",
    "\n",
    "def cropface(image, box, fill=.5, ratios=(1,1)):\n",
    "    shape = image.shape\n",
    "    if len(shape) > 2 :\n",
    "        h_img,w_img,c_img = shape\n",
    "    else:\n",
    "        h_img,w_img = shape\n",
    "\n",
    "    Ry, Rx = ratios\n",
    "    x,y,w,h = box\n",
    "    \n",
    "\n",
    "    new_y,new_x = Ry*y, Rx*x\n",
    "    y_fill = max(0, new_y-h*fill)\n",
    "    x_fill = max(0, new_x-w*fill)\n",
    "\n",
    "    new_h, new_w = Ry*(h+y), Rx*(w+x)\n",
    "    \n",
    "    h_fill = min(h_img, new_h+h*fill)\n",
    "    w_fill = min(w_img, new_w+w*fill)\n",
    "    \n",
    "    return image[int(y_fill):int(h_fill),\n",
    "               int(x_fill):int(w_fill)]\n"
   ]
  },
  {
   "cell_type": "code",
   "execution_count": null,
   "metadata": {},
   "outputs": [],
   "source": [
    "csv_files=glob.glob('./face_box/*.csv')\n",
    "len(csv_files)"
   ]
  },
  {
   "cell_type": "code",
   "execution_count": null,
   "metadata": {},
   "outputs": [],
   "source": [
    "for i, csv_p in enumerate(csv_files):\n",
    "    test_recal=pd.read_csv(csv_p)\n",
    "    if len(parse_cords(test_recal['face_boxs'][0]))> 4:\n",
    "        print(i)\n",
    "        break"
   ]
  },
  {
   "cell_type": "code",
   "execution_count": null,
   "metadata": {},
   "outputs": [],
   "source": [
    "test_recal=pd.read_csv(csv_files[192])\n",
    "tsd=parse_cords(test_recal['face_boxs'][0])\n",
    "tsd"
   ]
  },
  {
   "cell_type": "code",
   "execution_count": null,
   "metadata": {},
   "outputs": [],
   "source": [
    "test_recal=pd.read_csv(csv_files[192])\n",
    "\n",
    "image_bytes_s = requests.get(test_recal['photo_image_url'][0])\n",
    "\n",
    "image_bytes_s = image_bytes_s.content\n",
    "image_stream_s = BytesIO(image_bytes_s)\n",
    "img_open_s = np.array(Image.open(image_stream_s))\n",
    "\n",
    "image_bytes = requests.get(test_recal['photo_image_url'][0].split('?')[0])\n",
    "image_bytes = image_bytes.content\n",
    "image_stream = BytesIO(image_bytes)\n",
    "img_open = np.array(Image.open(image_stream))\n",
    "\n",
    "og_shape=img_open_s.shape\n",
    "new_shape=img_open.shape\n",
    "\n",
    "print(parse_cords(test_recal['face_boxs'][0]))\n",
    "new_box=recal_box(parse_cords(test_recal['face_boxs'][0]),og_shape, new_shape)\n",
    "print(new_box)\n",
    "plt.imshow(cropface(img_open_s, parse_cords(test_recal['face_boxs'][0])[0]))"
   ]
  },
  {
   "cell_type": "code",
   "execution_count": null,
   "metadata": {},
   "outputs": [],
   "source": [
    "plt.imshow(cropface(img_open, new_box[0]))"
   ]
  },
  {
   "cell_type": "code",
   "execution_count": null,
   "metadata": {},
   "outputs": [],
   "source": [
    "# Going throught all the file and merging into one\n",
    "csv_files = glob.glob('./face_box/*.csv')\n",
    "\n",
    "result_dict = {\n",
    "    'photo_image_url': [],\n",
    "    'face_box_cords': []\n",
    "}\n",
    "\n",
    "for i, csv in enumerate(csv_files):\n",
    "    \n",
    "    cur = pd.read_csv(csv)\n",
    "    try:\n",
    "        image_bytes_s = requests.get(cur['photo_image_url'][0])\n",
    "\n",
    "        image_bytes_s = image_bytes_s.content\n",
    "        image_stream_s = BytesIO(image_bytes_s)\n",
    "        img_open_s = np.array(Image.open(image_stream_s))\n",
    "\n",
    "        image_bytes = requests.get(cur['photo_image_url'][0].split('?')[0])\n",
    "        image_bytes = image_bytes.content\n",
    "        image_stream = BytesIO(image_bytes)\n",
    "        img_open = np.array(Image.open(image_stream))\n",
    "\n",
    "        og_shape = img_open_s.shape\n",
    "        new_shape = img_open.shape    \n",
    "\n",
    "        result_dict['face_box_cords'].append(recal_box(parse_cords(cur['face_boxs'][0]),og_shape, new_shape))\n",
    "        # result_dict['face_box_cords'].append(parse_cords(cur['face_boxs'][0]))\n",
    "        result_dict['photo_image_url'].append(cur['photo_image_url'][0].split('?')[0])\n",
    "    except:\n",
    "        print(f'error with {csv}')\n",
    "    print(f'{i}/{len(csv_files)}', end='\\r')\n",
    "    "
   ]
  },
  {
   "cell_type": "code",
   "execution_count": null,
   "metadata": {},
   "outputs": [],
   "source": [
    "final_merge = pd.DataFrame.from_dict(result_dict)"
   ]
  },
  {
   "cell_type": "code",
   "execution_count": null,
   "metadata": {},
   "outputs": [],
   "source": [
    "final_merge.head()"
   ]
  },
  {
   "cell_type": "code",
   "execution_count": null,
   "metadata": {},
   "outputs": [],
   "source": [
    "final_merge.to_csv('./merge_face_cords.csv', sep=';', index=False)"
   ]
  },
  {
   "cell_type": "code",
   "execution_count": null,
   "metadata": {},
   "outputs": [],
   "source": [
    "final_merge=pd.read_csv('./merge_face_cords.csv', sep=';')"
   ]
  },
  {
   "cell_type": "code",
   "execution_count": null,
   "metadata": {},
   "outputs": [],
   "source": [
    "final_merge.head()"
   ]
  },
  {
   "cell_type": "code",
   "execution_count": null,
   "metadata": {},
   "outputs": [],
   "source": [
    "final_merge['photo_image_url']=final_merge['photo_image_url'].str.split('?').str[0]"
   ]
  },
  {
   "cell_type": "code",
   "execution_count": null,
   "metadata": {},
   "outputs": [],
   "source": [
    "final_merge['photo_image_url'].iloc[10]"
   ]
  },
  {
   "cell_type": "code",
   "execution_count": null,
   "metadata": {},
   "outputs": [],
   "source": [
    "final_merge.to_csv('./merge_face_cords_full.csv', sep=';', index=False)"
   ]
  }
 ],
 "metadata": {
  "interpreter": {
   "hash": "745f3d800b17860a791360010e15696c25f294ee18daebf50f79825fe885a201"
  },
  "kernelspec": {
   "display_name": "Python 3.8.1 64-bit ('venv': conda)",
   "language": "python",
   "name": "python3"
  },
  "language_info": {
   "codemirror_mode": {
    "name": "ipython",
    "version": 3
   },
   "file_extension": ".py",
   "mimetype": "text/x-python",
   "name": "python",
   "nbconvert_exporter": "python",
   "pygments_lexer": "ipython3",
   "version": "3.7.4"
  },
  "orig_nbformat": 4
 },
 "nbformat": 4,
 "nbformat_minor": 2
}
